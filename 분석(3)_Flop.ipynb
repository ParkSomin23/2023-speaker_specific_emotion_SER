{
 "cells": [
  {
   "cell_type": "code",
   "execution_count": 1,
   "metadata": {},
   "outputs": [
    {
     "name": "stdout",
     "output_type": "stream",
     "text": [
      "env: CUDA_DEVICE_ORDER=PCI_BUS_ID\n",
      "env: CUDA_VISIBLE_DEVICES=0\n"
     ]
    }
   ],
   "source": [
    "%env CUDA_DEVICE_ORDER=PCI_BUS_ID\n",
    "%env CUDA_VISIBLE_DEVICES=0"
   ]
  },
  {
   "cell_type": "code",
   "execution_count": 1,
   "metadata": {},
   "outputs": [],
   "source": [
    "import importlib\n",
    "import yaml, itertools\n",
    "from torch.utils.data import DataLoader, Dataset\n",
    "from tqdm import tqdm\n",
    "\n",
    "import torch\n",
    "import torch.nn as nn\n",
    "import torch.nn.functional as F\n",
    "import torch.optim as optim\n",
    "import torchaudio\n",
    "\n",
    "import pandas as pd\n",
    "import random\n",
    "\n",
    "import numpy as np\n",
    "\n",
    "import matplotlib.pyplot as plt\n",
    "from sklearn.decomposition import PCA\n",
    "from sklearn.manifold import TSNE\n",
    "\n",
    "import os\n",
    "import glob\n",
    "\n",
    "import seaborn as sns\n",
    "\n",
    "\n",
    "from sklearn.metrics import balanced_accuracy_score, confusion_matrix"
   ]
  },
  {
   "cell_type": "code",
   "execution_count": 18,
   "metadata": {},
   "outputs": [
    {
     "name": "stdout",
     "output_type": "stream",
     "text": [
      "\n",
      "3\n",
      "  #params: 94.37M, #flops: 21.23G\n",
      "\n",
      "5\n",
      "  #params: 94.37M, #flops: 35.9G\n",
      "\n",
      "10\n",
      "  #params: 94.37M, #flops: 74.2G\n",
      "\n",
      "15\n",
      "  #params: 94.37M, #flops: 0.11T\n"
     ]
    }
   ],
   "source": [
    "from fvcore.nn import FlopCountAnalysis, flop_count_str\n",
    "\n",
    "device = 'cuda'\n",
    "\n",
    "bundle = torchaudio.pipelines.WAV2VEC2_BASE\n",
    "base_w2v = bundle.get_model()\n",
    "base_w2v.to(device)\n",
    "base_w2v.eval()\n",
    "\n",
    "for sec in [3, 5, 10, 15]:\n",
    "    print()\n",
    "    print(sec)\n",
    "    inputs = torch.randn((1,16000*sec)).to(device)\n",
    "    flops = FlopCountAnalysis(base_w2v, inputs)\n",
    "    print(flop_count_str(flops).split('\\n')[1])\n",
    "    #print(flops.by_operator())\n",
    "    #print(flops.by_module())\n",
    "    #print(flops.by_module_and_operator())"
   ]
  },
  {
   "cell_type": "code",
   "execution_count": 20,
   "metadata": {},
   "outputs": [
    {
     "name": "stdout",
     "output_type": "stream",
     "text": [
      "\n",
      "3\n",
      "  #params: 0.32G, #flops: 54.85G\n",
      "\n",
      "5\n",
      "  #params: 0.32G, #flops: 92.84G\n",
      "\n",
      "10\n",
      "  #params: 0.32G, #flops: 0.19T\n",
      "\n",
      "15\n",
      "  #params: 0.32G, #flops: 0.3T\n"
     ]
    }
   ],
   "source": [
    "from fvcore.nn import FlopCountAnalysis\n",
    "\n",
    "device = 'cuda'\n",
    "\n",
    "bundle = torchaudio.pipelines.WAV2VEC2_LARGE\n",
    "base_w2v = bundle.get_model()\n",
    "base_w2v.to(device)\n",
    "base_w2v.eval()\n",
    "\n",
    "for sec in [3, 5, 10, 15]:\n",
    "    print()\n",
    "    print(sec)\n",
    "    inputs = torch.randn((1,16000*sec)).to(device)\n",
    "    flops = FlopCountAnalysis(base_w2v, inputs)\n",
    "    print(flop_count_str(flops).split('\\n')[1])"
   ]
  },
  {
   "cell_type": "code",
   "execution_count": 31,
   "metadata": {},
   "outputs": [
    {
     "name": "stdout",
     "output_type": "stream",
     "text": [
      "pool_ 1\n",
      "<All keys matched successfully>\n",
      "3   #params: 97.33M, #flops: 21.7G\n",
      "5   #params: 97.33M, #flops: 36.73G\n",
      "10   #params: 97.33M, #flops: 76.05G\n",
      "15   #params: 97.33M, #flops: 0.12T\n",
      "pool_ 2\n",
      "<All keys matched successfully>\n",
      "3   #params: 99.69M, #flops: 22.09G\n",
      "5   #params: 99.69M, #flops: 37.41G\n",
      "10   #params: 99.69M, #flops: 77.61G\n",
      "15   #params: 99.69M, #flops: 0.12T\n",
      "pool_ 3\n",
      "<All keys matched successfully>\n",
      "3   #params: 0.1G, #flops: 22.47G\n",
      "5   #params: 0.1G, #flops: 38.1G\n",
      "10   #params: 0.1G, #flops: 79.17G\n",
      "15   #params: 0.1G, #flops: 0.12T\n",
      "pool_ 4\n",
      "<All keys matched successfully>\n",
      "3   #params: 0.1G, #flops: 22.86G\n",
      "5   #params: 0.1G, #flops: 38.78G\n",
      "10   #params: 0.1G, #flops: 80.73G\n",
      "15   #params: 0.1G, #flops: 0.13T\n"
     ]
    }
   ],
   "source": [
    "import my_utils\n",
    "\n",
    "for p in [1,2,3,4]:\n",
    "    print('pool_', p)\n",
    "    main_path = 'weight/only_emo/pool_' + str(p) #'Vox_IEMO(3)/main_final2_load_emo_beta/all_finetune_beta(05)'\n",
    "    exp_list = os.listdir(main_path)\n",
    "    exp_list.sort()\n",
    "\n",
    "    exp = exp_list[0]\n",
    "    mode = 'best'\n",
    "    device = 'cuda'\n",
    "\n",
    "\n",
    "    lib_path = glob.glob(main_path+'/'+exp+'/*only_emo*.py')[0][:-3].replace('/', '.')\n",
    "    saved_main = importlib.import_module(lib_path)\n",
    "\n",
    "    u_path = glob.glob(main_path+'/'+exp+'/my_utils.py')[0][:-3].replace('/', '.')\n",
    "    my_utils = importlib.import_module(u_path)\n",
    "\n",
    "    torch.cuda.empty_cache()\n",
    "\n",
    "    with open(main_path+'/'+exp+\"/hparams.yaml\") as f:\n",
    "        hparams = yaml.load(f, Loader=yaml.FullLoader)\n",
    "\n",
    "    seed = hparams['seed']\n",
    "    my_utils.set_seed(seed)\n",
    "\n",
    "    net = saved_main.Emotion_Network(hparams)\n",
    "\n",
    "    weight = torch.load(main_path+'/'+exp+\"/\"+mode+\"_model.pt\")\n",
    "    missing_keys = net.load_state_dict(weight['model_state_dict'], strict=True)\n",
    "    print(missing_keys)\n",
    "\n",
    "    net = net.cuda()\n",
    "    net.eval()\n",
    "\n",
    "    # MIPS(Million Instructions Per Second)\n",
    "    from fvcore.nn import FlopCountAnalysis\n",
    "\n",
    "    for sec in [3, 5, 10, 15]:\n",
    "        inputs = (torch.randn((1,16000*sec)).to(device), torch.tensor([0]).to(device), torch.tensor([0]).to(device))\n",
    "        flops = FlopCountAnalysis(net, inputs)\n",
    "        print(sec, flop_count_str(flops).split('\\n')[2])"
   ]
  },
  {
   "cell_type": "code",
   "execution_count": 33,
   "metadata": {},
   "outputs": [
    {
     "name": "stdout",
     "output_type": "stream",
     "text": [
      "<All keys matched successfully>\n",
      "3   #params: 0.2G, #flops: 44.47G\n",
      "5   #params: 0.2G, #flops: 75.37G\n",
      "10   #params: 0.2G, #flops: 0.16T\n",
      "15   #params: 0.2G, #flops: 0.24T\n"
     ]
    }
   ],
   "source": [
    "main_path = 'weight/main_final2_load_emo/freeze' #'Vox_IEMO(3)/main_final2_load_emo_beta/all_finetune_beta(05)'\n",
    "exp_list = os.listdir(main_path)\n",
    "exp_list.sort()\n",
    "\n",
    "exp = exp_list[0]\n",
    "mode = 'best'\n",
    "device = 'cuda'\n",
    "\n",
    "lib_path = glob.glob(main_path+'/'+exp+'/*main*.py')[0][:-3].replace('/', '.')\n",
    "saved_main = importlib.import_module(lib_path)\n",
    "\n",
    "u_path = glob.glob(main_path+'/'+exp+'/my_utils.py')[0][:-3].replace('/', '.')\n",
    "my_utils = importlib.import_module(u_path)\n",
    "\n",
    "torch.cuda.empty_cache()\n",
    "\n",
    "with open(main_path+'/'+exp+\"/hparams.yaml\") as f:\n",
    "    hparams = yaml.load(f, Loader=yaml.FullLoader)\n",
    "\n",
    "seed = hparams['seed']\n",
    "my_utils.set_seed(seed)\n",
    "\n",
    "net = saved_main.Emotion_Network(hparams)\n",
    "\n",
    "if hparams['id_net_freeze'] is not None:\n",
    "    net.id_filter.data = torch.randn(1, hparams['pool_head']+1, hparams['fin_channel']) \n",
    "\n",
    "if hparams['id_net_freeze'] != 'freeze':\n",
    "    net.id_net.hs.fc = nn.Parameter(torch.Tensor(8, hparams['fin_channel']))\n",
    "\n",
    "weight = torch.load(main_path+'/'+exp+\"/\"+mode+\"_model.pt\")\n",
    "missing_keys = net.load_state_dict(weight['model_state_dict'], strict=True)\n",
    "print(missing_keys)\n",
    "\n",
    "net = net.cuda()\n",
    "net.eval()\n",
    "\n",
    "# MIPS(Million Instructions Per Second)\n",
    "from fvcore.nn import FlopCountAnalysis\n",
    "\n",
    "for sec in [3, 5, 10, 15]:\n",
    "    inputs = (torch.randn((1,16000*sec)).to(device), torch.tensor([0]).to(device), torch.tensor([0]).to(device))\n",
    "    flops = FlopCountAnalysis(net, inputs)\n",
    "    print(sec, flop_count_str(flops).split('\\n')[2])"
   ]
  },
  {
   "cell_type": "code",
   "execution_count": 35,
   "metadata": {},
   "outputs": [
    {
     "name": "stdout",
     "output_type": "stream",
     "text": [
      "<All keys matched successfully>\n",
      "3   #params: 97.69M, #flops: 21.62G\n",
      "5   #params: 97.69M, #flops: 36.59G\n",
      "10   #params: 97.69M, #flops: 75.76G\n",
      "15   #params: 97.69M, #flops: 0.12T\n"
     ]
    }
   ],
   "source": [
    "main_path = 'weight/main_final2_load_emo/freeze' #'Vox_IEMO(3)/main_final2_load_emo_beta/all_finetune_beta(05)'\n",
    "exp_list = os.listdir(main_path)\n",
    "exp_list.sort()\n",
    "\n",
    "exp = exp_list[0]\n",
    "mode = 'best'\n",
    "device = 'cuda'\n",
    "\n",
    "lib_path = glob.glob(main_path+'/'+exp+'/*main*.py')[0][:-3].replace('/', '.')\n",
    "saved_main = importlib.import_module(lib_path)\n",
    "\n",
    "u_path = glob.glob(main_path+'/'+exp+'/my_utils.py')[0][:-3].replace('/', '.')\n",
    "my_utils = importlib.import_module(u_path)\n",
    "\n",
    "torch.cuda.empty_cache()\n",
    "\n",
    "with open(main_path+'/'+exp+\"/hparams.yaml\") as f:\n",
    "    hparams = yaml.load(f, Loader=yaml.FullLoader)\n",
    "\n",
    "seed = hparams['seed']\n",
    "my_utils.set_seed(seed)\n",
    "\n",
    "net = saved_main.Emotion_Network(hparams)\n",
    "\n",
    "if hparams['id_net_freeze'] is not None:\n",
    "    net.id_filter.data = torch.randn(1, hparams['pool_head']+1, hparams['fin_channel']) \n",
    "\n",
    "if hparams['id_net_freeze'] != 'freeze':\n",
    "    net.id_net.hs.fc = nn.Parameter(torch.Tensor(8, hparams['fin_channel']))\n",
    "\n",
    "weight = torch.load(main_path+'/'+exp+\"/\"+mode+\"_model.pt\")\n",
    "missing_keys = net.load_state_dict(weight['model_state_dict'], strict=True)\n",
    "print(missing_keys)\n",
    "\n",
    "net = net.cuda()\n",
    "net.eval()\n",
    "\n",
    "# MIPS(Million Instructions Per Second)\n",
    "from fvcore.nn import FlopCountAnalysis\n",
    "\n",
    "for sec in [3, 5, 10, 15]:\n",
    "    inputs = (torch.randn((1,16000*sec)).to(device), torch.tensor([0]).to(device))\n",
    "    flops = FlopCountAnalysis(net.id_net, inputs)\n",
    "    print(sec, flop_count_str(flops).split('\\n')[2])"
   ]
  },
  {
   "cell_type": "code",
   "execution_count": null,
   "metadata": {},
   "outputs": [],
   "source": []
  }
 ],
 "metadata": {
  "kernelspec": {
   "display_name": "speechbrain",
   "language": "python",
   "name": "python3"
  },
  "language_info": {
   "codemirror_mode": {
    "name": "ipython",
    "version": 3
   },
   "file_extension": ".py",
   "mimetype": "text/x-python",
   "name": "python",
   "nbconvert_exporter": "python",
   "pygments_lexer": "ipython3",
   "version": "3.10.4"
  },
  "orig_nbformat": 4,
  "vscode": {
   "interpreter": {
    "hash": "90029da15b0834c5efe5e94393ce3d13cd8de7e62c32e215fddda54b994b687e"
   }
  }
 },
 "nbformat": 4,
 "nbformat_minor": 2
}
