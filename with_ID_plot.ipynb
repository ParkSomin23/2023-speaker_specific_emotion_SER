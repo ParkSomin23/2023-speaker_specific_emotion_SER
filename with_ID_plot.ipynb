{
 "cells": [
  {
   "cell_type": "code",
   "execution_count": 1,
   "metadata": {},
   "outputs": [],
   "source": [
    "import seaborn as sns\n",
    "import pandas as pd\n",
    "import matplotlib.pyplot as plt\n",
    "#f = pd.DataFrame([name, attention, WA, UA], columns=['mode', 'emo attn', 'WA', 'UA'], sim=1)"
   ]
  },
  {
   "cell_type": "code",
   "execution_count": 13,
   "metadata": {},
   "outputs": [],
   "source": [
    "df = {\n",
    "    'mode': ['α=1.0\\nβ=0.0'] + ['α=1.0\\nβ=0.5', 'α=1.0\\nβ=1.0', 'α=1.0\\nβ=1.5'] * 2, \n",
    "    'state':['freeze', \\\n",
    "             'finetune (arcface)','finetune (arcface)','finetune (arcface)', \\\n",
    "             'finetune (all)', 'finetune (all)', 'finetune (all)'], \n",
    "\n",
    "    'WA(%)':[72.14, \\\n",
    "             70.11, 70.72, 70.84,\\\n",
    "             71.18, 70.93, 70.58],\n",
    "   \n",
    "    'UA(%)':[72.97, \\\n",
    "             71.51, 71.53, 71.92,\\\n",
    "             72.08, 71.73, 71.26],\n",
    "}\n",
    "\n",
    "adf = pd.DataFrame(df)"
   ]
  },
  {
   "cell_type": "code",
   "execution_count": 14,
   "metadata": {},
   "outputs": [
    {
     "data": {
      "text/html": [
       "<div>\n",
       "<style scoped>\n",
       "    .dataframe tbody tr th:only-of-type {\n",
       "        vertical-align: middle;\n",
       "    }\n",
       "\n",
       "    .dataframe tbody tr th {\n",
       "        vertical-align: top;\n",
       "    }\n",
       "\n",
       "    .dataframe thead th {\n",
       "        text-align: right;\n",
       "    }\n",
       "</style>\n",
       "<table border=\"1\" class=\"dataframe\">\n",
       "  <thead>\n",
       "    <tr style=\"text-align: right;\">\n",
       "      <th></th>\n",
       "      <th>mode</th>\n",
       "      <th>state</th>\n",
       "      <th>source</th>\n",
       "      <th>value_numbers</th>\n",
       "    </tr>\n",
       "  </thead>\n",
       "  <tbody>\n",
       "    <tr>\n",
       "      <th>0</th>\n",
       "      <td>α=1.0\\nβ=0.0</td>\n",
       "      <td>freeze</td>\n",
       "      <td>WA(%)</td>\n",
       "      <td>72.14</td>\n",
       "    </tr>\n",
       "    <tr>\n",
       "      <th>1</th>\n",
       "      <td>α=1.0\\nβ=0.5</td>\n",
       "      <td>finetune (arcface)</td>\n",
       "      <td>WA(%)</td>\n",
       "      <td>70.11</td>\n",
       "    </tr>\n",
       "    <tr>\n",
       "      <th>2</th>\n",
       "      <td>α=1.0\\nβ=1.0</td>\n",
       "      <td>finetune (arcface)</td>\n",
       "      <td>WA(%)</td>\n",
       "      <td>70.72</td>\n",
       "    </tr>\n",
       "    <tr>\n",
       "      <th>3</th>\n",
       "      <td>α=1.0\\nβ=1.5</td>\n",
       "      <td>finetune (arcface)</td>\n",
       "      <td>WA(%)</td>\n",
       "      <td>70.84</td>\n",
       "    </tr>\n",
       "    <tr>\n",
       "      <th>4</th>\n",
       "      <td>α=1.0\\nβ=0.5</td>\n",
       "      <td>finetune (all)</td>\n",
       "      <td>WA(%)</td>\n",
       "      <td>71.18</td>\n",
       "    </tr>\n",
       "    <tr>\n",
       "      <th>5</th>\n",
       "      <td>α=1.0\\nβ=1.0</td>\n",
       "      <td>finetune (all)</td>\n",
       "      <td>WA(%)</td>\n",
       "      <td>70.93</td>\n",
       "    </tr>\n",
       "    <tr>\n",
       "      <th>6</th>\n",
       "      <td>α=1.0\\nβ=1.5</td>\n",
       "      <td>finetune (all)</td>\n",
       "      <td>WA(%)</td>\n",
       "      <td>70.58</td>\n",
       "    </tr>\n",
       "    <tr>\n",
       "      <th>7</th>\n",
       "      <td>α=1.0\\nβ=0.0</td>\n",
       "      <td>freeze</td>\n",
       "      <td>UA(%)</td>\n",
       "      <td>72.97</td>\n",
       "    </tr>\n",
       "    <tr>\n",
       "      <th>8</th>\n",
       "      <td>α=1.0\\nβ=0.5</td>\n",
       "      <td>finetune (arcface)</td>\n",
       "      <td>UA(%)</td>\n",
       "      <td>71.51</td>\n",
       "    </tr>\n",
       "    <tr>\n",
       "      <th>9</th>\n",
       "      <td>α=1.0\\nβ=1.0</td>\n",
       "      <td>finetune (arcface)</td>\n",
       "      <td>UA(%)</td>\n",
       "      <td>71.53</td>\n",
       "    </tr>\n",
       "    <tr>\n",
       "      <th>10</th>\n",
       "      <td>α=1.0\\nβ=1.5</td>\n",
       "      <td>finetune (arcface)</td>\n",
       "      <td>UA(%)</td>\n",
       "      <td>71.92</td>\n",
       "    </tr>\n",
       "    <tr>\n",
       "      <th>11</th>\n",
       "      <td>α=1.0\\nβ=0.5</td>\n",
       "      <td>finetune (all)</td>\n",
       "      <td>UA(%)</td>\n",
       "      <td>72.08</td>\n",
       "    </tr>\n",
       "    <tr>\n",
       "      <th>12</th>\n",
       "      <td>α=1.0\\nβ=1.0</td>\n",
       "      <td>finetune (all)</td>\n",
       "      <td>UA(%)</td>\n",
       "      <td>71.73</td>\n",
       "    </tr>\n",
       "    <tr>\n",
       "      <th>13</th>\n",
       "      <td>α=1.0\\nβ=1.5</td>\n",
       "      <td>finetune (all)</td>\n",
       "      <td>UA(%)</td>\n",
       "      <td>71.26</td>\n",
       "    </tr>\n",
       "  </tbody>\n",
       "</table>\n",
       "</div>"
      ],
      "text/plain": [
       "            mode               state source  value_numbers\n",
       "0   α=1.0\\nβ=0.0              freeze  WA(%)          72.14\n",
       "1   α=1.0\\nβ=0.5  finetune (arcface)  WA(%)          70.11\n",
       "2   α=1.0\\nβ=1.0  finetune (arcface)  WA(%)          70.72\n",
       "3   α=1.0\\nβ=1.5  finetune (arcface)  WA(%)          70.84\n",
       "4   α=1.0\\nβ=0.5      finetune (all)  WA(%)          71.18\n",
       "5   α=1.0\\nβ=1.0      finetune (all)  WA(%)          70.93\n",
       "6   α=1.0\\nβ=1.5      finetune (all)  WA(%)          70.58\n",
       "7   α=1.0\\nβ=0.0              freeze  UA(%)          72.97\n",
       "8   α=1.0\\nβ=0.5  finetune (arcface)  UA(%)          71.51\n",
       "9   α=1.0\\nβ=1.0  finetune (arcface)  UA(%)          71.53\n",
       "10  α=1.0\\nβ=1.5  finetune (arcface)  UA(%)          71.92\n",
       "11  α=1.0\\nβ=0.5      finetune (all)  UA(%)          72.08\n",
       "12  α=1.0\\nβ=1.0      finetune (all)  UA(%)          71.73\n",
       "13  α=1.0\\nβ=1.5      finetune (all)  UA(%)          71.26"
      ]
     },
     "execution_count": 14,
     "metadata": {},
     "output_type": "execute_result"
    }
   ],
   "source": [
    "aadf = pd.melt(adf, id_vars=['mode', 'state'], var_name=\"source\", value_name=\"value_numbers\")\n",
    "aadf"
   ]
  },
  {
   "cell_type": "code",
   "execution_count": 15,
   "metadata": {},
   "outputs": [
    {
     "data": {
      "image/png": "[encoded data removed]",
      "text/plain": [
       "<Figure size 720x360 with 1 Axes>"
      ]
     },
     "metadata": {
      "needs_background": "light"
     },
     "output_type": "display_data"
    }
   ],
   "source": [
    "params = {'legend.fontsize': 'large',\n",
    "         'axes.labelsize': 'large',\n",
    "         'axes.titlesize':'large',\n",
    "         'xtick.labelsize':'large',\n",
    "         'ytick.labelsize':'large',\n",
    "         }\n",
    "plt.rcParams.update(params)\n",
    "\n",
    "plt.figure(figsize=(10, 5))\n",
    "y = sns.barplot(x='mode', y='value_numbers', hue='source', data=aadf,\n",
    "                    palette=sns.color_palette(\"Paired\"), ci=False)\n",
    "plt.ylim(60, 80)\n",
    "y.bar_label(y.containers[0], fontsize='large')\n",
    "y.bar_label(y.containers[1], fontsize='large')\n",
    "y.set_title('(α, β)', fontsize='xx-large')\n",
    "y.set_ylabel('accuracy(%)', fontsize='x-large')\n",
    "plt.legend()\n",
    "#y.set_xlabel('(a)', fontsize='xx-large')\n",
    "\n",
    "plt.tight_layout(pad=3)\n",
    "plt.show()"
   ]
  },
  {
   "cell_type": "code",
   "execution_count": 16,
   "metadata": {},
   "outputs": [],
   "source": [
    "aadf = aadf.replace('finetune (arcface)', 'Arcface Fine-Tuned')\n",
    "aadf = aadf.replace('finetune (all)', 'All Fine-Tuned')\n",
    "aadf = aadf.replace('freeze', 'All Frozen')"
   ]
  },
  {
   "cell_type": "code",
   "execution_count": 17,
   "metadata": {},
   "outputs": [
    {
     "data": {
      "image/png": "[encoded data removed]",
      "text/plain": [
       "<Figure size 1080x360 with 3 Axes>"
      ]
     },
     "metadata": {
      "needs_background": "light"
     },
     "output_type": "display_data"
    }
   ],
   "source": [
    "params = {'legend.fontsize': 'large',\n",
    "         'axes.labelsize': 'large',\n",
    "         'axes.titlesize':'large',\n",
    "         'xtick.labelsize':'large',\n",
    "         'ytick.labelsize':'large',\n",
    "         }\n",
    "plt.rcParams.update(params)\n",
    "\n",
    "fig, ax = plt.subplots(1, 3, figsize=(15, 5), gridspec_kw={'width_ratios': [0.8, 2, 2]})\n",
    "#plt.figure(figsize=(10, 5))\n",
    "for i_idx, i in enumerate(['All Frozen', 'Arcface Fine-Tuned', 'All Fine-Tuned']):\n",
    "    y = sns.barplot(x='mode', y='value_numbers', hue='source', data=aadf[aadf['state'] == i],\n",
    "                        palette=sns.color_palette(\"Paired\"), ci=False, ax=ax[i_idx])\n",
    "    ax[i_idx].set_ylim(60, 80)\n",
    "    y.bar_label(y.containers[0], fontsize='large')\n",
    "    y.bar_label(y.containers[1], fontsize='large')\n",
    "    y.set_xlabel('('+chr(97+i_idx)+')', fontsize='x-large')\n",
    "    #y.set_xticts('=', fontsize='large')\n",
    "    y.set_ylabel('accuracy(%)', fontsize='large')\n",
    "    y.set_title(i, fontsize='xx-large')\n",
    "    ax[i_idx].legend()\n",
    "    #y.set_xlabel('(a)', fontsize='xx-large')\n",
    "\n",
    "plt.tight_layout(pad=3)\n",
    "plt.show()"
   ]
  },
  {
   "cell_type": "code",
   "execution_count": null,
   "metadata": {},
   "outputs": [],
   "source": []
  }
 ],
 "metadata": {
  "kernelspec": {
   "display_name": "Python 3.10.4 ('speechbrain')",
   "language": "python",
   "name": "python3"
  },
  "language_info": {
   "codemirror_mode": {
    "name": "ipython",
    "version": 3
   },
   "file_extension": ".py",
   "mimetype": "text/x-python",
   "name": "python",
   "nbconvert_exporter": "python",
   "pygments_lexer": "ipython3",
   "version": "3.10.4"
  },
  "orig_nbformat": 4,
  "vscode": {
   "interpreter": {
    "hash": "90029da15b0834c5efe5e94393ce3d13cd8de7e62c32e215fddda54b994b687e"
   }
  }
 },
 "nbformat": 4,
 "nbformat_minor": 2
}
